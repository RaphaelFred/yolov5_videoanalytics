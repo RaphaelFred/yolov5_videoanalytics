{
 "cells": [
  {
   "cell_type": "code",
   "execution_count": 1,
   "metadata": {},
   "outputs": [],
   "source": [
    "import os\n",
    "import time\n",
    "import json\n",
    "import struct\n",
    "import shutil\n",
    "\n",
    "from numpy.random import default_rng"
   ]
  },
  {
   "cell_type": "code",
   "execution_count": 2,
   "metadata": {},
   "outputs": [],
   "source": [
    "data_folder = \"data\"\n",
    "destination_folder = \"yolov5_data\"\n",
    "\n",
    "subfolders = [\"Regensburg_Plant\"]\n",
    "\n",
    "proportions = {\n",
    "    \"train\": 80,\n",
    "    \"val\": 10,\n",
    "    \"test\": 10\n",
    "}"
   ]
  },
  {
   "cell_type": "code",
   "execution_count": 3,
   "metadata": {},
   "outputs": [
    {
     "name": "stdout",
     "output_type": "stream",
     "text": [
      "Creating dir:  yolov5_data\n"
     ]
    }
   ],
   "source": [
    "print(\"Creating dir: \", destination_folder)\n",
    "\n",
    "dataset_imgs_train_p = os.path.join(destination_folder, 'images', 'train')\n",
    "dataset_imgs_val_p = os.path.join(destination_folder, 'images', 'val')\n",
    "dataset_imgs_test_p = os.path.join(destination_folder, 'images', 'test')\n",
    "dataset_labels_train_p = os.path.join(destination_folder, 'labels', 'train')\n",
    "dataset_labels_val_p = os.path.join(destination_folder, 'labels', 'val')\n",
    "dataset_labels_test_p = os.path.join(destination_folder, 'labels', 'test')\n",
    "os.makedirs(destination_folder, exist_ok = True)\n",
    "os.makedirs(dataset_imgs_train_p, exist_ok = True)\n",
    "os.makedirs(dataset_imgs_val_p, exist_ok = True)\n",
    "os.makedirs(dataset_imgs_test_p, exist_ok = True)\n",
    "os.makedirs(dataset_labels_train_p, exist_ok = True)\n",
    "os.makedirs(dataset_labels_val_p, exist_ok = True)\n",
    "os.makedirs(dataset_labels_test_p, exist_ok = True)"
   ]
  },
  {
   "cell_type": "code",
   "execution_count": 4,
   "metadata": {},
   "outputs": [],
   "source": [
    "def get_image_size(file_path):\n",
    "    \"\"\"\n",
    "    Return (width, height) for a given img file content - no external\n",
    "    dependencies except the os and struct modules from core\n",
    "    \"\"\"\n",
    "    size = os.path.getsize(file_path)\n",
    "\n",
    "    with open(file_path, 'rb') as input:\n",
    "        height = -1\n",
    "        width = -1\n",
    "        data = input.read(25)\n",
    "        #data = str(data\n",
    "        #data = data.decode('utf-8')\n",
    "        #data = bytes(data)\n",
    "        #print(data)\n",
    "        if True:\n",
    "            input.seek(0)\n",
    "            input.read(2)\n",
    "            b = input.read(1)\n",
    "            while (b and ord(b) != 0xDA):\n",
    "                while (ord(b) != 0xFF): b = input.read(1)\n",
    "                while (ord(b) == 0xFF): b = input.read(1)\n",
    "                if (ord(b) >= 0xC0 and ord(b) <= 0xC3):\n",
    "                    input.read(3)\n",
    "                    h, w = struct.unpack(\">HH\", input.read(4))\n",
    "                    break\n",
    "                else:\n",
    "                    input.read(int(struct.unpack(\">H\", input.read(2))[0])-2)\n",
    "                b = input.read(1)\n",
    "            width = int(w)\n",
    "            height = int(h)\n",
    "            return width, height"
   ]
  },
  {
   "cell_type": "code",
   "execution_count": 7,
   "metadata": {},
   "outputs": [
    {
     "name": "stdout",
     "output_type": "stream",
     "text": [
      "data/Regensburg_Plant/objectclasses.json\n",
      "data/Regensburg_Plant/images/952.jpg\n",
      "Regensburg_Plant_952.jpg\n"
     ]
    },
    {
     "ename": "FileNotFoundError",
     "evalue": "[Errno 2] No such file or directory: 'yolov5_data/images/train/Regensburg_Plant_952.jpg'",
     "output_type": "error",
     "traceback": [
      "\u001b[0;31m---------------------------------------------------------------------------\u001b[0m",
      "\u001b[0;31mFileNotFoundError\u001b[0m                         Traceback (most recent call last)",
      "\u001b[1;32m/home/fred031/projects/hackathon/sordi/yolov5_videoanalytics/convert_bmw_data_to_yolo.ipynb Cell 5\u001b[0m in \u001b[0;36m<module>\u001b[0;34m\u001b[0m\n\u001b[1;32m     <a href='vscode-notebook-cell://wsl%2Bubuntu/home/fred031/projects/hackathon/sordi/yolov5_videoanalytics/convert_bmw_data_to_yolo.ipynb#W3sdnNjb2RlLXJlbW90ZQ%3D%3D?line=42'>43</a>\u001b[0m         \u001b[39mprint\u001b[39m(new_image_name)\n\u001b[1;32m     <a href='vscode-notebook-cell://wsl%2Bubuntu/home/fred031/projects/hackathon/sordi/yolov5_videoanalytics/convert_bmw_data_to_yolo.ipynb#W3sdnNjb2RlLXJlbW90ZQ%3D%3D?line=43'>44</a>\u001b[0m         destination_image \u001b[39m=\u001b[39m os\u001b[39m.\u001b[39mpath\u001b[39m.\u001b[39mjoin(destination_folder, \u001b[39m'\u001b[39m\u001b[39mimages\u001b[39m\u001b[39m'\u001b[39m, assigned[\u001b[39m0\u001b[39m], new_image_name)\n\u001b[0;32m---> <a href='vscode-notebook-cell://wsl%2Bubuntu/home/fred031/projects/hackathon/sordi/yolov5_videoanalytics/convert_bmw_data_to_yolo.ipynb#W3sdnNjb2RlLXJlbW90ZQ%3D%3D?line=44'>45</a>\u001b[0m         shutil\u001b[39m.\u001b[39;49mcopyfile(source_image, destination_image)\n\u001b[1;32m     <a href='vscode-notebook-cell://wsl%2Bubuntu/home/fred031/projects/hackathon/sordi/yolov5_videoanalytics/convert_bmw_data_to_yolo.ipynb#W3sdnNjb2RlLXJlbW90ZQ%3D%3D?line=45'>46</a>\u001b[0m         \u001b[39m# shutil.copyfile(src_l, dst_l)\u001b[39;00m\n\u001b[1;32m     <a href='vscode-notebook-cell://wsl%2Bubuntu/home/fred031/projects/hackathon/sordi/yolov5_videoanalytics/convert_bmw_data_to_yolo.ipynb#W3sdnNjb2RlLXJlbW90ZQ%3D%3D?line=46'>47</a>\u001b[0m \u001b[39m#     #if not os.path.exists(os.path.join(dataset_imgs_train_p, str(fileindex) + '.jpg')):\u001b[39;00m\n\u001b[1;32m     <a href='vscode-notebook-cell://wsl%2Bubuntu/home/fred031/projects/hackathon/sordi/yolov5_videoanalytics/convert_bmw_data_to_yolo.ipynb#W3sdnNjb2RlLXJlbW90ZQ%3D%3D?line=47'>48</a>\u001b[0m \u001b[39m#     #    os.symlink(os.path.abspath(p_img), os.path.join(dataset_imgs_train_p, str(fileindex) + '.jpg'))\u001b[39;00m\n\u001b[1;32m     <a href='vscode-notebook-cell://wsl%2Bubuntu/home/fred031/projects/hackathon/sordi/yolov5_videoanalytics/convert_bmw_data_to_yolo.ipynb#W3sdnNjb2RlLXJlbW90ZQ%3D%3D?line=48'>49</a>\u001b[0m \u001b[39m#     #print(p_img)\u001b[39;00m\n\u001b[1;32m     <a href='vscode-notebook-cell://wsl%2Bubuntu/home/fred031/projects/hackathon/sordi/yolov5_videoanalytics/convert_bmw_data_to_yolo.ipynb#W3sdnNjb2RlLXJlbW90ZQ%3D%3D?line=49'>50</a>\u001b[0m \u001b[39m#     split = p_img.split('/')\u001b[39;00m\n\u001b[1;32m     <a href='vscode-notebook-cell://wsl%2Bubuntu/home/fred031/projects/hackathon/sordi/yolov5_videoanalytics/convert_bmw_data_to_yolo.ipynb#W3sdnNjb2RlLXJlbW90ZQ%3D%3D?line=50'>51</a>\u001b[0m \u001b[39m#     id2path[fileindex] = split[-3] + ',' + split[-1]\u001b[39;00m\n\u001b[1;32m     <a href='vscode-notebook-cell://wsl%2Bubuntu/home/fred031/projects/hackathon/sordi/yolov5_videoanalytics/convert_bmw_data_to_yolo.ipynb#W3sdnNjb2RlLXJlbW90ZQ%3D%3D?line=51'>52</a>\u001b[0m     w, h \u001b[39m=\u001b[39m get_image_size(img_path)\n",
      "File \u001b[0;32m/usr/lib/python3.8/shutil.py:264\u001b[0m, in \u001b[0;36mcopyfile\u001b[0;34m(src, dst, follow_symlinks)\u001b[0m\n\u001b[1;32m    262\u001b[0m     os\u001b[39m.\u001b[39msymlink(os\u001b[39m.\u001b[39mreadlink(src), dst)\n\u001b[1;32m    263\u001b[0m \u001b[39melse\u001b[39;00m:\n\u001b[0;32m--> 264\u001b[0m     \u001b[39mwith\u001b[39;00m \u001b[39mopen\u001b[39m(src, \u001b[39m'\u001b[39m\u001b[39mrb\u001b[39m\u001b[39m'\u001b[39m) \u001b[39mas\u001b[39;00m fsrc, \u001b[39mopen\u001b[39;49m(dst, \u001b[39m'\u001b[39;49m\u001b[39mwb\u001b[39;49m\u001b[39m'\u001b[39;49m) \u001b[39mas\u001b[39;00m fdst:\n\u001b[1;32m    265\u001b[0m         \u001b[39m# macOS\u001b[39;00m\n\u001b[1;32m    266\u001b[0m         \u001b[39mif\u001b[39;00m _HAS_FCOPYFILE:\n\u001b[1;32m    267\u001b[0m             \u001b[39mtry\u001b[39;00m:\n",
      "\u001b[0;31mFileNotFoundError\u001b[0m: [Errno 2] No such file or directory: 'yolov5_data/images/train/Regensburg_Plant_952.jpg'"
     ]
    }
   ],
   "source": [
    "id2path = {}\n",
    "\n",
    "all_classes = []\n",
    "all_classes_set = []\n",
    "fileindex = 0\n",
    "\n",
    "if isinstance(subfolders, list):\n",
    "    folders = subfolders \n",
    "else:\n",
    "    folders = os.listdir(data_folder)\n",
    "\n",
    "for folder in folders:\n",
    "    # print(folder)\n",
    "    folder_path = os.path.join(data_folder, folder)\n",
    "    if not os.path.isdir(folder_path):        \n",
    "        continue\n",
    "    print(os.path.join(folder_path, 'objectclasses.json'))\n",
    "    a = time.time()\n",
    "    with open(os.path.join(folder_path, 'objectclasses.json'), 'r') as clsf:\n",
    "        classes = json.load(clsf)\n",
    "    for objclass in classes:\n",
    "        if objclass not in all_classes:\n",
    "            all_classes.append(objclass)\n",
    "        objname = objclass['Name']\n",
    "        if objname not in all_classes_set:\n",
    "            all_classes_set.append(objname)\n",
    "    # print(all_classes)\n",
    "    # print(all_classes_set)\n",
    "    files = os.listdir(os.path.join(folder_path, 'images'))\n",
    "    # print(files)\n",
    "    for img_name in files:\n",
    "        import random\n",
    "        assigned = random.choices([\"train\", \"val\", \"test\"], weights=(proportions[\"train\"], proportions[\"val\"], proportions[\"test\"]), k=1)\n",
    "        b = time.time()\n",
    "        img_path = os.path.join(folder_path, 'images', img_name)\n",
    "        # print(\"Image Path: \", img_path)\n",
    "        label_path = os.path.join(folder_path, 'labels', 'json', img_name.replace('jpg', 'json'))\n",
    "        # print(\"Label path: \", label_path)\n",
    "        if os.path.exists(img_path):\n",
    "            print(img_path)\n",
    "            source_image = img_path\n",
    "            new_image_name = f\"{folder}_{img_name}\"\n",
    "            print(new_image_name)\n",
    "            destination_image = os.path.join(destination_folder, 'images', assigned[0], new_image_name)\n",
    "            shutil.copyfile(source_image, destination_image)\n",
    "            # shutil.copyfile(src_l, dst_l)\n",
    "    #     #if not os.path.exists(os.path.join(dataset_imgs_train_p, str(fileindex) + '.jpg')):\n",
    "    #     #    os.symlink(os.path.abspath(p_img), os.path.join(dataset_imgs_train_p, str(fileindex) + '.jpg'))\n",
    "    #     #print(p_img)\n",
    "    #     split = p_img.split('/')\n",
    "    #     id2path[fileindex] = split[-3] + ',' + split[-1]\n",
    "        w, h = get_image_size(img_path)\n",
    "        with open(label_path, 'r') as annotation_file:\n",
    "            annotations = json.load(annotation_file)\n",
    "        dupcheck = []\n",
    "        with open(os.path.join(destination_folder, 'labels', assigned, new_image_name.replace('jpg', '') + '.txt'), 'w') as txtf:\n",
    "            for anno in annotations:\n",
    "                yolo_class_index = all_classes_set.index(anno['ObjectClassName'])\n",
    "                right, left, top, bottom = anno['Right'], anno['Left'], anno['Top'], anno['Bottom']\n",
    "                x_center = ((left + right) / 2) / w\n",
    "                y_center = ((top + bottom) / 2) / h\n",
    "                w_normalized = (right - left) / w\n",
    "                h_normalized = (bottom - top) / h\n",
    "                area = (right - left) * (bottom - top)\n",
    "                if area < 400:\n",
    "                    continue\n",
    "\n",
    "                yololine = str(yolo_class_index) + ' ' + str(x_center) + ' ' + str(y_center) + ' ' + str(w_normalized) + ' ' + str(h_normalized)\n",
    "                if yololine in dupcheck:\n",
    "                    continue\n",
    "                dupcheck.append(yololine)\n",
    "                txtf.write(yololine)\n",
    "                txtf.write('\\n')\n",
    "        c = time.time()\n",
    "    d = time.time()\n",
    "\n",
    "with open(os.path.join(destination_folder, 'sordi.json'), 'w', encoding='utf-8') as f:\n",
    "    json.dump(all_classes, f, ensure_ascii=False, indent=4)\n",
    "    # print('folder:', (d-a))\n",
    "\n",
    "with open(os.path.join(destination_folder, 'sordi.yaml'), 'w', encoding='utf-8') as f:\n",
    "    f.write('path: ./sordi\\n')\n",
    "    f.write('train: images/train\\n')\n",
    "    f.write('val: images/val\\n')\n",
    "    f.write('test: images/test\\n')\n",
    "    f.write('names:\\n')\n",
    "    index = 0\n",
    "    for anno_class in all_classes_set:\n",
    "        f.write('  ' + str(index) + ': ' + anno_class + '\\n')\n",
    "        index += 1"
   ]
  }
 ],
 "metadata": {
  "kernelspec": {
   "display_name": "Python 3",
   "language": "python",
   "name": "python3"
  },
  "language_info": {
   "codemirror_mode": {
    "name": "ipython",
    "version": 3
   },
   "file_extension": ".py",
   "mimetype": "text/x-python",
   "name": "python",
   "nbconvert_exporter": "python",
   "pygments_lexer": "ipython3",
   "version": "3.8.10"
  },
  "orig_nbformat": 4,
  "vscode": {
   "interpreter": {
    "hash": "916dbcbb3f70747c44a77c7bcd40155683ae19c65e1c03b4aa3499c5328201f1"
   }
  }
 },
 "nbformat": 4,
 "nbformat_minor": 2
}
