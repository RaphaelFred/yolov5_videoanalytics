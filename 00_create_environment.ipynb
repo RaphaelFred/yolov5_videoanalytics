{
 "cells": [
  {
   "cell_type": "code",
   "execution_count": 3,
   "metadata": {},
   "outputs": [],
   "source": [
    "import json\n",
    "with open('configuration/aml_workspace.json', 'r') as f:\n",
    "    aml_config = json.load(f)\n",
    "\n",
    "subscription_id = aml_config['subscription_id']\n",
    "resource_group = aml_config['resource_group']\n",
    "workspace_name = aml_config['workspace_name']\n",
    "datastore_name = aml_config['datastore_name']\n",
    "path_on_datastore = aml_config['path_on_datastore']\n",
    "computename = aml_config['computename']"
   ]
  },
  {
   "cell_type": "code",
   "execution_count": 4,
   "metadata": {},
   "outputs": [
    {
     "name": "stderr",
     "output_type": "stream",
     "text": [
      "Class SystemCreatedStorageAccount: This is an experimental class, and may change at any time. Please see https://aka.ms/azuremlexperimental for more information.\n",
      "Class SystemCreatedAcrAccount: This is an experimental class, and may change at any time. Please see https://aka.ms/azuremlexperimental for more information.\n",
      "Class RegistryOperations: This is an experimental class, and may change at any time. Please see https://aka.ms/azuremlexperimental for more information.\n"
     ]
    }
   ],
   "source": [
    "from azure.ai.ml import MLClient\n",
    "from azure.ai.ml._restclient.dataset_dataplane.models import Dataset\n",
    "from azure.identity import (\n",
    "    AzureCliCredential,\n",
    "    InteractiveBrowserCredential\n",
    ")\n",
    "try:\n",
    "    # Use AzureCLICredential instead of DefaultAzureCredential since VisualStudioCodeCredential might cause errors.\n",
    "    # Requires previously logging in to Azure via \"az login\", and will use the CLI's currently logged in identity.\n",
    "    credential = AzureCliCredential()\n",
    "    credential.get_token(\"https://management.azure.com/.default\")\n",
    "except Exception:\n",
    "    # Fall back to InteractiveBrowserCredential in case AzureCliCredential not work\n",
    "    credential = InteractiveBrowserCredential()\n",
    "\n",
    "# Note that MLCLient is lazy and does not yet connect to Azure here.\n",
    "# In case the CLI authentication failed, a browser window will pop up later and will require authentication.\n",
    "ml_client = MLClient(credential, subscription_id, resource_group, workspace_name)\n",
    "\n",
    "from azure.ai.ml import command\n",
    "from azure.ai.ml.entities import Data, Workspace, Environment, BuildContext\n",
    "from azure.ai.ml import Input, Output\n",
    "from azure.ai.ml.constants import AssetTypes"
   ]
  },
  {
   "cell_type": "code",
   "execution_count": null,
   "metadata": {},
   "outputs": [],
   "source": [
    "# shutil.copy(config_src, context_dir)\n",
    "\n",
    "env_docker_context = Environment(\n",
    "    build=BuildContext(path=\"sordiai-build-context\"),\n",
    "    name=\"sordiaiyolov5\",\n",
    "    description=\"Environment created from a Docker context.\",\n",
    ")\n",
    "res = ml_client.environments.create_or_update(env_docker_context)"
   ]
  },
  {
   "cell_type": "code",
   "execution_count": null,
   "metadata": {},
   "outputs": [],
   "source": [
    "my_job_inputs = {\n",
    "    \"input_data\": Input(type=AssetTypes.URI_FOLDER, path=\"azureml://datastores/sordiai/paths/\")\n",
    "}\n",
    "job = command(\n",
    "    code=\"./src\",\n",
    "    command=\"./run.sh ${{inputs.input_data}}\",\n",
    "    inputs=my_job_inputs,\n",
    "    environment=\"sordiaiyolov5:1\",\n",
    "    compute='Standard-NC4as-T4-v3',\n",
    "\n",
    ")\n",
    "returned_job = ml_client.create_or_update(job)\n",
    "print(returned_job.services[\"Studio\"].endpoint)"
   ]
  },
  {
   "cell_type": "code",
   "execution_count": null,
   "metadata": {},
   "outputs": [],
   "source": [
    "my_job_inputs = {\n",
    "    \"input_data\": Input(type=AssetTypes.URI_FOLDER, path=\"azureml://datastores/sordiai/paths/sordi_stage_2\")\n",
    "}\n",
    "my_job_outputs = {\n",
    "    \"yolo_data\": Output(type=AssetTypes.URI_FOLDER, path=\"azureml://datastores/sordiai/paths/output/\")\n",
    "}\n",
    "job = command(\n",
    "    code=\"./src\",\n",
    " #   command=\"python sordiai.py --input_data ${{inputs.input_data}} --yolo_data ${{outputs.yolo_data}}\",\n",
    "    command=\"python sordiai.py --input_data ${{inputs.input_data}}\",\n",
    "    inputs=my_job_inputs,\n",
    " #   outputs=my_job_outputs,\n",
    "    environment=\"sordiaiyolov5:1\",\n",
    "    compute='Standard-L8s-v2',\n",
    ")\n",
    "returned_job = ml_client.create_or_update(job)\n",
    "print(returned_job.services[\"Studio\"].endpoint)"
   ]
  },
  {
   "cell_type": "code",
   "execution_count": null,
   "metadata": {},
   "outputs": [],
   "source": []
  }
 ],
 "metadata": {
  "kernelspec": {
   "display_name": "Python 3",
   "language": "python",
   "name": "python3"
  },
  "language_info": {
   "codemirror_mode": {
    "name": "ipython",
    "version": 3
   },
   "file_extension": ".py",
   "mimetype": "text/x-python",
   "name": "python",
   "nbconvert_exporter": "python",
   "pygments_lexer": "ipython3",
   "version": "3.8.10"
  },
  "vscode": {
   "interpreter": {
    "hash": "916dbcbb3f70747c44a77c7bcd40155683ae19c65e1c03b4aa3499c5328201f1"
   }
  }
 },
 "nbformat": 4,
 "nbformat_minor": 4
}
