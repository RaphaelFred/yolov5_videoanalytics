{
 "cells": [
  {
   "cell_type": "code",
   "execution_count": 1,
   "metadata": {},
   "outputs": [],
   "source": [
    "import json\n",
    "with open('configuration/aml_workspace.json', 'r') as f:\n",
    "    aml_config = json.load(f)\n",
    "\n",
    "with open('configuration/train_config.json', 'r') as f:\n",
    "    train_config = json.load(f)\n",
    "\n",
    "subscription_id = aml_config['subscription_id']\n",
    "resource_group = aml_config['resource_group']\n",
    "workspace_name = aml_config['workspace_name']\n",
    "datastore_name = train_config['datastore_name']\n",
    "train_environment = train_config['train_environment']\n",
    "path_on_datastore = train_config['path_on_datastore']\n",
    "train_description = train_config['train_description']\n",
    "aml_display_name = train_config['aml_display_name']\n",
    "computename = aml_config['computename']"
   ]
  },
  {
   "cell_type": "code",
   "execution_count": 2,
   "metadata": {},
   "outputs": [
    {
     "name": "stderr",
     "output_type": "stream",
     "text": [
      "Class SystemCreatedStorageAccount: This is an experimental class, and may change at any time. Please see https://aka.ms/azuremlexperimental for more information.\n",
      "Class SystemCreatedAcrAccount: This is an experimental class, and may change at any time. Please see https://aka.ms/azuremlexperimental for more information.\n",
      "Class RegistryOperations: This is an experimental class, and may change at any time. Please see https://aka.ms/azuremlexperimental for more information.\n"
     ]
    }
   ],
   "source": [
    "from azure.ai.ml import MLClient\n",
    "from azure.ai.ml._restclient.dataset_dataplane.models import Dataset\n",
    "from azure.identity import (\n",
    "    AzureCliCredential,\n",
    "    InteractiveBrowserCredential\n",
    ")\n",
    "try:\n",
    "    # Use AzureCLICredential instead of DefaultAzureCredential since VisualStudioCodeCredential might cause errors.\n",
    "    # Requires previously logging in to Azure via \"az login\", and will use the CLI's currently logged in identity.\n",
    "    credential = AzureCliCredential()\n",
    "    credential.get_token(\"https://management.azure.com/.default\")\n",
    "except Exception:\n",
    "    # Fall back to InteractiveBrowserCredential in case AzureCliCredential not work\n",
    "    credential = InteractiveBrowserCredential()\n",
    "\n",
    "# Note that MLCLient is lazy and does not yet connect to Azure here.\n",
    "# In case the CLI authentication failed, a browser window will pop up later and will require authentication.\n",
    "ml_client = MLClient(credential, subscription_id, resource_group, workspace_name)\n",
    "\n",
    "from azure.ai.ml import command\n",
    "from azure.ai.ml.entities import Data, Workspace, Environment, BuildContext\n",
    "from azure.ai.ml import Input, Output\n",
    "from azure.ai.ml.constants import AssetTypes"
   ]
  },
  {
   "cell_type": "code",
   "execution_count": 3,
   "metadata": {},
   "outputs": [
    {
     "name": "stderr",
     "output_type": "stream",
     "text": [
      "\u001b[32mUploading src (0.01 MBs): 100%|██████████| 12248/12248 [00:00<00:00, 118633.71it/s]\n",
      "\u001b[39m\n",
      "\n"
     ]
    },
    {
     "name": "stdout",
     "output_type": "stream",
     "text": [
      "https://ml.azure.com/runs/elated_leather_657zlq23bz?wsid=/subscriptions/83febb18-9ee8-4c49-859f-9e7a106512a5/resourcegroups/dev-000-euw-sordiai-rg/workspaces/de-sordiai-00-ml&tid=659c3a90-ec90-4772-b772-cebe2050a82e\n"
     ]
    }
   ],
   "source": [
    "my_job_inputs = {\n",
    "    \"input_data\": Input(type=AssetTypes.URI_FOLDER, path=f\"azureml://datastores/{datastore_name}/paths/\"),\n",
    "    \"path_on_datastore\": path_on_datastore\n",
    "}\n",
    "job = command(\n",
    "    code=\"./src\",\n",
    "    command=\"./run_yolov8.sh ${{inputs.input_data}} ${{inputs.path_on_datastore}}\",\n",
    "    inputs=my_job_inputs,\n",
    "    environment=train_environment,\n",
    "    description=train_description,\n",
    "    display_name=aml_display_name,\n",
    "    compute='Standard-NC4as-T4-v3',\n",
    "\n",
    ")\n",
    "returned_job = ml_client.create_or_update(job)\n",
    "print(returned_job.services[\"Studio\"].endpoint)"
   ]
  }
 ],
 "metadata": {
  "kernelspec": {
   "display_name": "Python 3",
   "language": "python",
   "name": "python3"
  },
  "language_info": {
   "codemirror_mode": {
    "name": "ipython",
    "version": 3
   },
   "file_extension": ".py",
   "mimetype": "text/x-python",
   "name": "python",
   "nbconvert_exporter": "python",
   "pygments_lexer": "ipython3",
   "version": "3.8.10"
  },
  "orig_nbformat": 4,
  "vscode": {
   "interpreter": {
    "hash": "916dbcbb3f70747c44a77c7bcd40155683ae19c65e1c03b4aa3499c5328201f1"
   }
  }
 },
 "nbformat": 4,
 "nbformat_minor": 2
}
