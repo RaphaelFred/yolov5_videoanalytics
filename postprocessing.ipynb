{
 "cells": [
  {
   "cell_type": "code",
   "execution_count": null,
   "metadata": {},
   "outputs": [],
   "source": [
    "import json\n",
    "from collections import defaultdict, Counter\n",
    "with open('output.json', 'r') as f:\n",
    "    output = json.load(f)"
   ]
  },
  {
   "cell_type": "code",
   "execution_count": null,
   "metadata": {},
   "outputs": [],
   "source": [
    "rack_types = ['rack_1', 'rack_2', 'rack_3', 'rack_4']\n",
    "box_types = ['klt_box_full', 'klt_box_empty']\n",
    "\n",
    "capacities_by_rack = {\n",
    "    'rack_1': 4 * 6 * 2,  # 48\n",
    "    'rack_2': 3 * 3 * 3 + 1 * 4 * 3,  # 39\n",
    "    'rack_3': 3 * 1 * 2,  # 6\n",
    "    'rack_4': 3 * 2 * 2 + 2 * 2  # 16\n",
    "}\n",
    "\n",
    "n_shelfes = {\n",
    "    'rack_1': 4,  # 48\n",
    "    'rack_2': 4,  # 39\n",
    "    'rack_3': 3,\n",
    "    'rack_4': 5\n",
    "}\n",
    "\n",
    "racks = defaultdict(\n",
    "    lambda: {\n",
    "        'label': None,\n",
    "        'first_frame': None,\n",
    "        'x_min_on_first_frame': None,\n",
    "        'confidences': [],\n",
    "        'average_confidence': None,\n",
    "        'boxes': [],\n",
    "        'relative_boxes': [],\n",
    "        'box_on_shelf': []\n",
    "    }\n",
    ")\n",
    "frame_out = output['5']\n",
    "frame_out"
   ]
  },
  {
   "cell_type": "code",
   "execution_count": null,
   "metadata": {},
   "outputs": [],
   "source": [
    "import pandas as pd\n",
    "from sklearn.cluster import KMeans\n",
    "for frame_number, detections in output.items():\n",
    "    box_threshold = 0.5\n",
    "    racks_in_frame = []\n",
    "    boxes_in_frame = []\n",
    "    for detection in  detections:\n",
    "            object_id = detection['obj_id']\n",
    "            label = detection['obj_label']\n",
    "            x_min = detection['detector_bbox'][0]\n",
    "            x_max = x_min + detection['detector_bbox'][2]\n",
    "            y_min = detection['detector_bbox'][1]\n",
    "            y_max = y_min + detection['detector_bbox'][3]\n",
    "            \n",
    "            if detection['obj_label'] in rack_types:        \n",
    "\n",
    "                racks[object_id]['label'] = label\n",
    "                racks[object_id]['confidences'].append(detection['confidence'])\n",
    "                racks_in_frame.append((object_id, x_min, x_max,  y_min, y_max))\n",
    "\n",
    "                # if racks[object_id]['first_frame'] is None:\n",
    "                #     racks[object_id]['first_frame'] = int(frame_number)\n",
    "                #     racks[object_id]['x_min_on_first_frame'] = x_min\n",
    "    \n",
    "            if detection['obj_label'] in box_types and detection['confidence'] > box_threshold:\n",
    "                boxes_in_frame.append((object_id, label, x_min, x_max, y_min, y_max))\n",
    "\n",
    "    for box in boxes_in_frame:\n",
    "            object_id_box, label_box, x_min_box, x_max_box, y_min_box, y_max_box = box\n",
    "            box_x_centroid = 0.5 * (x_min_box + x_max_box)\n",
    "            for rack in racks_in_frame:\n",
    "                object_id_rack, x_min_rack, x_max_rack, y_min_rack, y_max_rack = rack\n",
    "                rack_height = y_max_rack - y_min_rack\n",
    "                rack_width = x_max_rack - x_min_rack\n",
    "                if box_x_centroid < x_max_rack and box_x_centroid > x_min_rack:\n",
    "                    racks[object_id_rack]['boxes'].append((object_id_box, label_box, x_min_box, x_max_box))\n",
    "                    racks[object_id_rack]['relative_boxes'].append((\n",
    "                        object_id_box,\n",
    "                        label_box,\n",
    "                        max((x_min_box - x_min_rack) / rack_width, 0),\n",
    "                        min((x_max_box - x_min_rack) / rack_width, 1),\n",
    "                        max((y_min_box - y_min_rack) / rack_height, 0),\n",
    "                        min((y_max_box - y_min_rack) / rack_height, 1)\n",
    "                    ))\n",
    "    for rack, items in racks.items():\n",
    "        if len(racks[rack]['box_on_shelf']) > 10:\n",
    "            continue\n",
    "        y_min_list = [box[4] for box in racks[rack]['relative_boxes']]\n",
    "        y_max_list = [box[5] for box in racks[rack]['relative_boxes']]\n",
    "        if len(y_min_list) < 5:\n",
    "            continue\n",
    "        d = {\n",
    "            'y_min': y_min_list,\n",
    "            'y_max': y_max_list\n",
    "        }\n",
    "        df = pd.DataFrame.from_dict(d)\n",
    "        rack_type = racks[rack]['label']\n",
    "        # Create a model based on 3 centroids\n",
    "        model = KMeans(n_clusters=n_shelfes[rack_type], init='k-means++', n_init=100, max_iter=1000)\n",
    "        # Fit to the data and predict the cluster assignments for each data point\n",
    "        km_clusters = model.fit_predict(df.values)\n",
    "        df['cluster'] = km_clusters\n",
    "        sorted_df = df.groupby('cluster').mean().sort_values(by='y_min', ascending=False)\n",
    "        sorted_df['shelf'] = range(1, sorted_df.shape[0] + 1)\n",
    "        racks[rack]['box_on_shelf'].append(Counter([int(sorted_df.iloc[pred]['shelf']) for pred in km_clusters]))\n",
    "# for rack, items in racks.items():\n",
    "#     print(racks[33]['relative_boxes'])\n"
   ]
  },
  {
   "cell_type": "code",
   "execution_count": null,
   "metadata": {},
   "outputs": [],
   "source": [
    " racks[rack]['box_on_shelf']"
   ]
  },
  {
   "cell_type": "code",
   "execution_count": null,
   "metadata": {},
   "outputs": [],
   "source": [
    "Counter([1, 3, 3, 2, 3, 4])"
   ]
  },
  {
   "cell_type": "code",
   "execution_count": null,
   "metadata": {},
   "outputs": [],
   "source": [
    "import pandas as pd\n",
    "from sklearn.cluster import KMeans\n",
    "for rack, items in racks.items():\n",
    "    y_min_list = [box[4] for box in racks[rack]['relative_boxes']]\n",
    "    y_max_list = [box[5] for box in racks[rack]['relative_boxes']]\n",
    "    if len(y_min_list) < 5:\n",
    "       continue\n",
    "    d = {\n",
    "        'y_min': y_min_list,\n",
    "        'y_max': y_max_list\n",
    "    }\n",
    "    df = pd.DataFrame.from_dict(d)\n",
    "    rack_type = racks[rack]['label']\n",
    "    # Create a model based on 3 centroids\n",
    "    model = KMeans(n_clusters=n_shelfes[rack_type], init='k-means++', n_init=100, max_iter=1000)\n",
    "    # Fit to the data and predict the cluster assignments for each data point\n",
    "    km_clusters = model.fit_predict(df.values)\n",
    "    df['cluster'] = km_clusters\n",
    "    sorted_df = df.groupby('cluster').mean().sort_values(by='y_min', ascending=False)\n",
    "    sorted_df['shelf'] = range(1, sorted_df.shape[0] + 1)\n",
    "    racks[rack]['box_on_shelf'] = [int(sorted_df.iloc[pred]['shelf']) for pred in km_clusters]\n",
    "    # View the cluster assignments\n",
    "    #print(n_shelfes[rack_type])"
   ]
  },
  {
   "cell_type": "code",
   "execution_count": null,
   "metadata": {},
   "outputs": [],
   "source": [
    "sorted_racks = sorted(list(racks.values()), key=lambda x: (x['first_frame'], x['x_min_on_first_frame']))"
   ]
  },
  {
   "cell_type": "code",
   "execution_count": null,
   "metadata": {},
   "outputs": [],
   "source": [
    "for rack in sorted_racks:\n",
    "    rack['average_confidence'] = np.mean(rack['confidences'])"
   ]
  },
  {
   "cell_type": "code",
   "execution_count": null,
   "metadata": {},
   "outputs": [],
   "source": [
    "sorted_and_filtered_racks = list(filter(lambda rack: len(rack['confidences']) > 90 and rack['average_confidence'] > 0.7, sorted_racks))"
   ]
  },
  {
   "cell_type": "code",
   "execution_count": null,
   "metadata": {},
   "outputs": [],
   "source": [
    "for rack in sorted_and_filtered_racks:\n",
    "    rack['boxes'] = Counter(\n",
    "        [\n",
    "            box[1] \n",
    "            for box, count in dict(Counter(rack['boxes'])).items()\n",
    "            if count > 0.33 * len(rack['confidences'])\n",
    "        ]\n",
    "    )"
   ]
  },
  {
   "cell_type": "code",
   "execution_count": null,
   "metadata": {},
   "outputs": [],
   "source": [
    "sorted_and_filtered_racks[0]['box_on_shelf']"
   ]
  },
  {
   "cell_type": "code",
   "execution_count": null,
   "metadata": {},
   "outputs": [],
   "source": [
    "km_clusters"
   ]
  },
  {
   "cell_type": "code",
   "execution_count": null,
   "metadata": {},
   "outputs": [],
   "source": [
    "racks[rack]['box_on_shelf']\n",
    "    "
   ]
  },
  {
   "cell_type": "code",
   "execution_count": null,
   "metadata": {},
   "outputs": [],
   "source": [
    "km_clusters\n",
    "\n",
    "sorted_df.iloc[2]['shelf']\n",
    "[int(sorted_df.iloc[pred]['shelf']) for pred in km_clusters]"
   ]
  },
  {
   "cell_type": "code",
   "execution_count": null,
   "metadata": {},
   "outputs": [],
   "source": [
    "df"
   ]
  },
  {
   "cell_type": "code",
   "execution_count": null,
   "metadata": {},
   "outputs": [],
   "source": [
    "sorted_df"
   ]
  },
  {
   "cell_type": "code",
   "execution_count": null,
   "metadata": {},
   "outputs": [],
   "source": [
    "y_min_list = [box[4] for box in racks[33]['relative_boxes']]\n",
    "y_max_list = [box[5] for box in racks[33]['relative_boxes']]\n",
    "\n",
    "import pandas as pd\n",
    "d = {\n",
    "   'y_min': y_min_list,\n",
    "   'y_max': y_max_list\n",
    "}\n",
    "df = pd.DataFrame.from_dict(d)"
   ]
  },
  {
   "cell_type": "code",
   "execution_count": null,
   "metadata": {},
   "outputs": [],
   "source": [
    "from sklearn.cluster import KMeans\n",
    "\n",
    "# Create a model based on 3 centroids\n",
    "model = KMeans(n_clusters=3, init='k-means++', n_init=100, max_iter=1000)\n",
    "# Fit to the data and predict the cluster assignments for each data point\n",
    "km_clusters = model.fit_predict(df.values)\n",
    "# View the cluster assignments\n",
    "km_clusters"
   ]
  },
  {
   "cell_type": "code",
   "execution_count": null,
   "metadata": {},
   "outputs": [],
   "source": [
    "import numpy as np\n",
    "import matplotlib.pyplot as plt\n",
    "from sklearn.cluster import KMeans\n",
    "def plot_clusters(samples, clusters):\n",
    "    col_dic = {0:'blue',1:'green',2:'orange'}\n",
    "    mrk_dic = {0:'*',1:'x',2:'+'}\n",
    "    colors = [col_dic[x] for x in clusters]\n",
    "    markers = [mrk_dic[x] for x in clusters]\n",
    "    for sample in range(len(clusters)):\n",
    "        plt.scatter(samples[sample][0], samples[sample][1], color = colors[sample], marker=markers[sample], s=100)\n",
    "    plt.xlabel('Dimension 1')\n",
    "    plt.ylabel('Dimension 2')\n",
    "    plt.title('Assignments')\n",
    "    plt.show()\n",
    "\n",
    "plot_clusters(np.array(df), km_clusters)"
   ]
  },
  {
   "cell_type": "code",
   "execution_count": null,
   "metadata": {},
   "outputs": [],
   "source": [
    "import numpy as np\n",
    "import matplotlib.pyplot as plt\n",
    "from sklearn.cluster import KMeans\n",
    "%matplotlib inline\n",
    "\n",
    "# Create 10 models with 1 to 10 clusters\n",
    "wcss = []\n",
    "for i in range(1, 11):\n",
    "    kmeans = KMeans(n_clusters = i)\n",
    "    # Fit the data points\n",
    "    kmeans.fit(df.values)\n",
    "    # Get the WCSS (inertia) value\n",
    "    wcss.append(kmeans.inertia_)\n",
    "    \n",
    "#Plot the WCSS values onto a line graph\n",
    "plt.plot(range(1, 11), wcss)\n",
    "plt.title('WCSS by Clusters')\n",
    "plt.xlabel('Number of clusters')\n",
    "plt.ylabel('WCSS')\n",
    "plt.show()"
   ]
  }
 ],
 "metadata": {
  "kernelspec": {
   "display_name": "venv",
   "language": "python",
   "name": "python3"
  },
  "language_info": {
   "codemirror_mode": {
    "name": "ipython",
    "version": 3
   },
   "file_extension": ".py",
   "mimetype": "text/x-python",
   "name": "python",
   "nbconvert_exporter": "python",
   "pygments_lexer": "ipython3",
   "version": "3.8.10"
  },
  "orig_nbformat": 4,
  "vscode": {
   "interpreter": {
    "hash": "dde9fcb75e6cad13292a977604401a24790d571bba9b291f7f8ec1ac8003ab5e"
   }
  }
 },
 "nbformat": 4,
 "nbformat_minor": 2
}
